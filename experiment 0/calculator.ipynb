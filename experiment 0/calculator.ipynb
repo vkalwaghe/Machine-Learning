{
 "cells": [
  {
   "cell_type": "code",
   "execution_count": null,
   "id": "122f0906",
   "metadata": {},
   "outputs": [],
   "source": [
    "import sys"
   ]
  },
  {
   "cell_type": "code",
   "execution_count": 2,
   "id": "2438c7a0",
   "metadata": {},
   "outputs": [
    {
     "name": "stdout",
     "output_type": "stream",
     "text": [
      "hello\n"
     ]
    }
   ],
   "source": [
    "print(\"hello\")"
   ]
  },
  {
   "cell_type": "code",
   "execution_count": 12,
   "id": "4ea9a386",
   "metadata": {},
   "outputs": [
    {
     "name": "stdout",
     "output_type": "stream",
     "text": [
      "the division of 10 and 5 is 2.0\n"
     ]
    }
   ],
   "source": [
    "a=int(input(\"enter the number a:\"))\n",
    "b=int(input(\"enter the number b:\"))\n",
    "opr=input(\"enter the operation which you wanna perform: \")\n",
    "match opr: \n",
    "    case \"add\":\n",
    "        print(f\"the addition of {a} and {b} is:{a+b}\");\n",
    "    case \"sub\":\n",
    "        print(f\"the substraction of {a} nad {b} is {a-b}\");\n",
    "    case \"multi\":\n",
    "        print(f\"the multiplication of {a} and {b} is {a*b}\");\n",
    "    case \"divi\":\n",
    "        print(f\"the division of {a} and {b} is {a/b}\");"
   ]
  }
 ],
 "metadata": {
  "kernelspec": {
   "display_name": ".venv",
   "language": "python",
   "name": "python3"
  },
  "language_info": {
   "codemirror_mode": {
    "name": "ipython",
    "version": 3
   },
   "file_extension": ".py",
   "mimetype": "text/x-python",
   "name": "python",
   "nbconvert_exporter": "python",
   "pygments_lexer": "ipython3",
   "version": "-1.-1.-1"
  }
 },
 "nbformat": 4,
 "nbformat_minor": 5
}
